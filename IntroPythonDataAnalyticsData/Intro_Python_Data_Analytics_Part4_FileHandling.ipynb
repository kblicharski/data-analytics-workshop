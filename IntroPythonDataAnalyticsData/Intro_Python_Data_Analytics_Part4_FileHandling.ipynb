{
 "cells": [
  {
   "cell_type": "markdown",
   "metadata": {},
   "source": [
    "# Introduction to Python Data Analytics\n",
    "# Part 4. File Handling"
   ]
  },
  {
   "cell_type": "markdown",
   "metadata": {},
   "source": [
    "Instructor: Kang P. Lee <br>"
   ]
  },
  {
   "cell_type": "markdown",
   "metadata": {},
   "source": [
    "## ▪ Reading a File"
   ]
  },
  {
   "cell_type": "code",
   "execution_count": 1,
   "metadata": {
    "collapsed": true
   },
   "outputs": [],
   "source": [
    "fo = open(\"Batting.csv\", mode=\"r\")     # Open a file and return a file handler.\n",
    "\n",
    "pass   # Instead of pass, do something you want with the file.\n",
    "\n",
    "fo.close()"
   ]
  },
  {
   "cell_type": "markdown",
   "metadata": {},
   "source": [
    "- \"r\": Open a file for reading. (default)\n",
    "- \"w\": Open a file for writing. Creates a new file if it does not exist, or truncates the file if it exists.\n",
    "- \"a\": Open for appending at the end of the file without truncating it. Creates a new file if it does not exist.\n",
    "- \"b\": Open in binary mode.\n",
    "- \"+\": Open a file for updating (reading and writing)"
   ]
  },
  {
   "cell_type": "code",
   "execution_count": 5,
   "metadata": {
    "collapsed": true
   },
   "outputs": [],
   "source": [
    "with open(\"Batting.csv\", mode=\"r\") as fo:\n",
    "    \n",
    "    pass   # Instead of pass, do something you want with the file."
   ]
  },
  {
   "cell_type": "markdown",
   "metadata": {},
   "source": [
    "If you think it's a hassle to close a file whenever you open it, you can simply use with open as. "
   ]
  },
  {
   "cell_type": "code",
   "execution_count": 16,
   "metadata": {
    "collapsed": true
   },
   "outputs": [],
   "source": [
    "with open(\"Batting.csv\", mode=\"r\") as fo:\n",
    "    content = fo.read()        # Returns the whole content in the file.\n",
    "    \n",
    "    pass                       # Instead of pass, do Something you want with the whole content of the file.    "
   ]
  },
  {
   "cell_type": "code",
   "execution_count": 18,
   "metadata": {
    "collapsed": true
   },
   "outputs": [],
   "source": [
    "with open(\"Batting.csv\", mode=\"r\") as fo:\n",
    "    lines = fo.readlines()     # Returns a list of lines.\n",
    "    \n",
    "    for line in lines:\n",
    "        pass                   # Instead of pass, do Something you want with each line."
   ]
  },
  {
   "cell_type": "markdown",
   "metadata": {},
   "source": [
    "## ▪ Writing a File"
   ]
  },
  {
   "cell_type": "code",
   "execution_count": 2,
   "metadata": {
    "collapsed": true
   },
   "outputs": [],
   "source": [
    "with open(\"test.txt\", mode=\"w\") as fo:\n",
    "    fo.write(\"id\\tvalue1\\tvalue2\\n\")\n",
    "    \n",
    "    for i in range(10):\n",
    "        fo.write(\"{0}\\t{1}\\t{2}\\n\".format(i, i*10, i*100))"
   ]
  },
  {
   "cell_type": "markdown",
   "metadata": {},
   "source": [
    "Don't forget to put a delimiter, e.g., tab (\"\\t\") or comma (\",\"), between two fields and a new line at the end of each line."
   ]
  }
 ],
 "metadata": {
  "kernelspec": {
   "display_name": "Python 3",
   "language": "python",
   "name": "python3"
  },
  "language_info": {
   "codemirror_mode": {
    "name": "ipython",
    "version": 3
   },
   "file_extension": ".py",
   "mimetype": "text/x-python",
   "name": "python",
   "nbconvert_exporter": "python",
   "pygments_lexer": "ipython3",
   "version": "3.6.0"
  }
 },
 "nbformat": 4,
 "nbformat_minor": 1
}
